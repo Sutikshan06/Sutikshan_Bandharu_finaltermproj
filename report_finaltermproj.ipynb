{
 "cells": [
  {
   "cell_type": "markdown",
   "id": "c3fafa1a-62c4-469f-81d2-b94a11dea08b",
   "metadata": {},
   "source": [
    "Title:\n",
    "\"Comparison of Classification Algorithms for Diabetes Prediction\"\n",
    "\n",
    "Course: CS 634 Data Mining\n",
    "\n",
    "Instructor: Dr. Yasser Abdullah\n",
    "\n",
    "Name: Sutikshan Bandharu\n",
    "\n",
    "Date: 11-24-2024\n"
   ]
  },
  {
   "cell_type": "markdown",
   "id": "7632e6b4-0818-4bcb-9ed4-4f2fd5952ce6",
   "metadata": {},
   "source": [
    "1. Introduction:\n",
    "   \n",
    "Objective:\n",
    "\n",
    "This project focuses on predicting diabetes using machine learning models based on patient health records. Early detection of diabetes is crucial for timely treatment and management. The dataset used for this study contains key health parameters like age, BMI, blood glucose levels, and hypertension status. The primary goal is to compare the performance of three machine learning models—Random Forest, LSTM, and SVM—on diabetes prediction, using metrics such as accuracy, false positive rate (FPR), and false negative rate (FNR).\n",
    "\n",
    "Dataset Overview:\n",
    "\n",
    "Dataset Source: Kaggle - https://www.kaggle.com/code/tumpanjawat/diabetes-eda-random-forest-hp/input\n",
    "\n",
    "Dataset Description:\n",
    "\n",
    "The dataset contains patient health records, including features like age, gender, blood glucose levels, BMI, smoking history, and more.\n",
    "The target variable is diabetes, which is binary (1 for diabetes, 0 for no diabetes)."
   ]
  },
  {
   "cell_type": "markdown",
   "id": "faeaa8ae-b778-45db-a71c-dbc530feea60",
   "metadata": {},
   "source": [
    "2. Data Preprocessing\n",
    "\n",
    "Overview:\n",
    "The raw dataset required preprocessing to handle missing values, encode categorical variables, and scale numerical features. Preprocessing ensures the data is suitable for input into machine learning models.\n",
    "\n",
    "Steps Taken:\n",
    "\n",
    "2.1 Handling Missing Values:\n",
    "\n",
    "Checked for missing values in the dataset.\n",
    "Missing values were handled by filling them with the column mean to avoid data loss.\n",
    "\n",
    "2.2 Encoding Categorical Variables:\n",
    "\n",
    "Categorical variables (gender, smoking_history) were converted into numerical values using LabelEncoder:\n",
    "Male/Female → 0/1\n",
    "Smoking history categories (e.g., never, current) → numerical codes.\n",
    "\n",
    "2.3 Feature Scaling:\n",
    "\n",
    "All numerical features were normalized using StandardScaler to standardize the range of values. This ensures features with different scales (e.g., age and glucose levels) do not bias the models.\n"
   ]
  },
  {
   "cell_type": "code",
   "execution_count": 1,
   "id": "937d382a-18f7-4c19-a34f-ceec69f31b72",
   "metadata": {},
   "outputs": [
    {
     "name": "stdout",
     "output_type": "stream",
     "text": [
      "First 5 rows of the dataset:\n",
      "   gender   age  hypertension  heart_disease smoking_history    bmi  \\\n",
      "0  Female  80.0             0              1           never  25.19   \n",
      "1  Female  54.0             0              0         No Info  27.32   \n",
      "2    Male  28.0             0              0           never  27.32   \n",
      "3  Female  36.0             0              0         current  23.45   \n",
      "4    Male  76.0             1              1         current  20.14   \n",
      "\n",
      "   HbA1c_level  blood_glucose_level  diabetes  \n",
      "0          6.6                  140         0  \n",
      "1          6.6                   80         0  \n",
      "2          5.7                  158         0  \n",
      "3          5.0                  155         0  \n",
      "4          4.8                  155         0  \n",
      "\n",
      "Column names in the dataset:\n",
      "Index(['gender', 'age', 'hypertension', 'heart_disease', 'smoking_history',\n",
      "       'bmi', 'HbA1c_level', 'blood_glucose_level', 'diabetes'],\n",
      "      dtype='object')\n"
     ]
    }
   ],
   "source": [
    "import pandas as pd\n",
    "file_path = '/Users/sutikshanbandharu/Downloads/diabetes_prediction_dataset.csv'\n",
    "data = pd.read_csv(file_path)\n",
    "print(\"First 5 rows of the dataset:\")\n",
    "print(data.head())\n",
    "print(\"\\nColumn names in the dataset:\")\n",
    "print(data.columns)"
   ]
  },
  {
   "cell_type": "code",
   "execution_count": 2,
   "id": "8b5c0ab6-85fb-46ec-828e-a9f337dc6a1b",
   "metadata": {},
   "outputs": [
    {
     "name": "stdout",
     "output_type": "stream",
     "text": [
      "\n",
      "Checking for missing values:\n",
      "gender                 0\n",
      "age                    0\n",
      "hypertension           0\n",
      "heart_disease          0\n",
      "smoking_history        0\n",
      "bmi                    0\n",
      "HbA1c_level            0\n",
      "blood_glucose_level    0\n",
      "diabetes               0\n",
      "dtype: int64\n",
      "\n",
      "No missing values found.\n"
     ]
    }
   ],
   "source": [
    "#checking for missing values\n",
    "print(\"\\nChecking for missing values:\")\n",
    "print(data.isnull().sum())\n",
    "#handling missing values\n",
    "if data.isnull().sum().sum() > 0:\n",
    "    data.fillna(data.mean(), inplace=True)\n",
    "    print(\"\\nMissing values filled with column means.\")\n",
    "else:\n",
    "    print(\"\\nNo missing values found.\")"
   ]
  },
  {
   "cell_type": "code",
   "execution_count": 3,
   "id": "f4bf9b14-629d-4915-937c-bb2e2c62fc7b",
   "metadata": {},
   "outputs": [
    {
     "name": "stdout",
     "output_type": "stream",
     "text": [
      "\n",
      "Dataset after encoding categorical columns:\n",
      "   gender   age  hypertension  heart_disease  smoking_history    bmi  \\\n",
      "0       0  80.0             0              1                4  25.19   \n",
      "1       0  54.0             0              0                0  27.32   \n",
      "2       1  28.0             0              0                4  27.32   \n",
      "3       0  36.0             0              0                1  23.45   \n",
      "4       1  76.0             1              1                1  20.14   \n",
      "\n",
      "   HbA1c_level  blood_glucose_level  diabetes  \n",
      "0          6.6                  140         0  \n",
      "1          6.6                   80         0  \n",
      "2          5.7                  158         0  \n",
      "3          5.0                  155         0  \n",
      "4          4.8                  155         0  \n"
     ]
    }
   ],
   "source": [
    "from sklearn.preprocessing import LabelEncoder\n",
    "#categorical columns\n",
    "categorical_columns = ['gender', 'smoking_history']\n",
    "#Encoding\n",
    "label_encoders = {}\n",
    "for col in categorical_columns:\n",
    "    label_encoders[col] = LabelEncoder()\n",
    "    data[col] = label_encoders[col].fit_transform(data[col])\n",
    "print(\"\\nDataset after encoding categorical columns:\")\n",
    "print(data.head())"
   ]
  },
  {
   "cell_type": "code",
   "execution_count": 4,
   "id": "18ca93ed-1fde-40b2-89ac-8514a33dd9bc",
   "metadata": {},
   "outputs": [
    {
     "name": "stdout",
     "output_type": "stream",
     "text": [
      "\n",
      "Shapes of Training and Testing Data:\n",
      "X_train: (80000, 8), y_train: (80000,)\n",
      "X_test: (20000, 8), y_test: (20000,)\n"
     ]
    }
   ],
   "source": [
    "from sklearn.model_selection import train_test_split\n",
    "#features (X) and target (y)\n",
    "X = data.drop('diabetes', axis=1)\n",
    "y = data['diabetes']\n",
    "#training (80%) and testing (20%)\n",
    "X_train, X_test, y_train, y_test = train_test_split(X, y, test_size=0.2, random_state=42)\n",
    "#checking shapes\n",
    "print(\"\\nShapes of Training and Testing Data:\")\n",
    "print(f\"X_train: {X_train.shape}, y_train: {y_train.shape}\")\n",
    "print(f\"X_test: {X_test.shape}, y_test: {y_test.shape}\")"
   ]
  },
  {
   "cell_type": "code",
   "execution_count": 5,
   "id": "09f00ec3-475f-41b2-a727-d8b10d2525f7",
   "metadata": {},
   "outputs": [
    {
     "name": "stdout",
     "output_type": "stream",
     "text": [
      "\n",
      "Scaled Data Shapes:\n",
      "X_train_scaled: (80000, 8)\n",
      "X_test_scaled: (20000, 8)\n"
     ]
    }
   ],
   "source": [
    "from sklearn.preprocessing import StandardScaler\n",
    "# Scaling features\n",
    "scaler = StandardScaler()\n",
    "X_train_scaled = scaler.fit_transform(X_train)\n",
    "X_test_scaled = scaler.transform(X_test)\n",
    "#Verifying\n",
    "print(\"\\nScaled Data Shapes:\")\n",
    "print(f\"X_train_scaled: {X_train_scaled.shape}\")\n",
    "print(f\"X_test_scaled: {X_test_scaled.shape}\")"
   ]
  },
  {
   "cell_type": "markdown",
   "id": "d2d8a86d-d6fc-4474-845b-559950d5acb4",
   "metadata": {},
   "source": [
    "3. Methodology\n",
    "   \n",
    "Algorithms Used:\n",
    "\n",
    "Three machine learning algorithms were implemented and evaluated:\n",
    "\n",
    "3.1 Random Forest:\n",
    "\n",
    "A tree-based ensemble method that combines multiple decision trees to improve accuracy.\n",
    "Key parameter: n_estimators = 100 (number of trees).\n",
    "\n",
    "3.2 Long Short-Term Memory (LSTM):\n",
    "\n",
    "A type of Recurrent Neural Network (RNN) designed for sequential data but applied here to binary classification.\n",
    "\n",
    "Key parameters:\n",
    "\n",
    "Number of LSTM units: 50\n",
    "Activation function: ReLU\n",
    "Dropout rate: 20%\n",
    "Output activation: Sigmoid for binary classification.\n",
    "\n",
    "3.3 Support Vector Machines (SVM):\n",
    "\n",
    "A margin-based classifier that separates classes using hyperplanes.\n",
    "\n",
    "Kernel: Linear kernel.\n"
   ]
  },
  {
   "cell_type": "code",
   "execution_count": 6,
   "id": "25df153d-3aa8-4c4d-9d8f-15a87a5273aa",
   "metadata": {},
   "outputs": [
    {
     "name": "stdout",
     "output_type": "stream",
     "text": [
      "\n",
      "Random Forest Classification Report:\n",
      "              precision    recall  f1-score   support\n",
      "\n",
      "           0       0.97      1.00      0.98     18292\n",
      "           1       0.95      0.69      0.80      1708\n",
      "\n",
      "    accuracy                           0.97     20000\n",
      "   macro avg       0.96      0.84      0.89     20000\n",
      "weighted avg       0.97      0.97      0.97     20000\n",
      "\n",
      "\n",
      "Confusion Matrix for Random Forest:\n",
      "[[18227    65]\n",
      " [  528  1180]]\n"
     ]
    }
   ],
   "source": [
    "#Random forest Classification\n",
    "\n",
    "from sklearn.ensemble import RandomForestClassifier\n",
    "from sklearn.metrics import classification_report, confusion_matrix\n",
    "#Training\n",
    "rf_model = RandomForestClassifier(n_estimators=100, random_state=42)\n",
    "rf_model.fit(X_train_scaled, y_train)\n",
    "#Predicting test data\n",
    "y_pred_rf = rf_model.predict(X_test_scaled)\n",
    "#Check Random Forest\n",
    "print(\"\\nRandom Forest Classification Report:\")\n",
    "print(classification_report(y_test, y_pred_rf))\n",
    "print(\"\\nConfusion Matrix for Random Forest:\")\n",
    "cm_rf = confusion_matrix(y_test, y_pred_rf)\n",
    "print(cm_rf)"
   ]
  },
  {
   "cell_type": "code",
   "execution_count": 7,
   "id": "9f3b8771-cd93-4a40-9746-c9d0f520006b",
   "metadata": {},
   "outputs": [
    {
     "name": "stdout",
     "output_type": "stream",
     "text": [
      "\n",
      "Reshaped Data for LSTM:\n",
      "X_train_lstm: (80000, 8, 1)\n",
      "X_test_lstm: (20000, 8, 1)\n"
     ]
    }
   ],
   "source": [
    "#LSTM Classification\n",
    "\n",
    "import numpy as np\n",
    "#I am reshaping data for LSTM\n",
    "X_train_lstm = np.expand_dims(X_train_scaled, axis=2)\n",
    "X_test_lstm = np.expand_dims(X_test_scaled, axis=2)\n",
    "print(\"\\nReshaped Data for LSTM:\")\n",
    "print(f\"X_train_lstm: {X_train_lstm.shape}\")\n",
    "print(f\"X_test_lstm: {X_test_lstm.shape}\")"
   ]
  },
  {
   "cell_type": "code",
   "execution_count": 8,
   "id": "eb38de43-84a4-462f-b9ea-fc1c9fdc7041",
   "metadata": {},
   "outputs": [
    {
     "name": "stdout",
     "output_type": "stream",
     "text": [
      "Epoch 1/10\n",
      "\u001b[1m2500/2500\u001b[0m \u001b[32m━━━━━━━━━━━━━━━━━━━━\u001b[0m\u001b[37m\u001b[0m \u001b[1m3s\u001b[0m 1ms/step - accuracy: 0.9365 - loss: 0.1975 - val_accuracy: 0.9596 - val_loss: 0.1211\n",
      "Epoch 2/10\n",
      "\u001b[1m2500/2500\u001b[0m \u001b[32m━━━━━━━━━━━━━━━━━━━━\u001b[0m\u001b[37m\u001b[0m \u001b[1m3s\u001b[0m 1ms/step - accuracy: 0.9610 - loss: 0.1174 - val_accuracy: 0.9625 - val_loss: 0.1123\n",
      "Epoch 3/10\n",
      "\u001b[1m2500/2500\u001b[0m \u001b[32m━━━━━━━━━━━━━━━━━━━━\u001b[0m\u001b[37m\u001b[0m \u001b[1m3s\u001b[0m 1ms/step - accuracy: 0.9622 - loss: 0.1129 - val_accuracy: 0.9649 - val_loss: 0.1065\n",
      "Epoch 4/10\n",
      "\u001b[1m2500/2500\u001b[0m \u001b[32m━━━━━━━━━━━━━━━━━━━━\u001b[0m\u001b[37m\u001b[0m \u001b[1m3s\u001b[0m 1ms/step - accuracy: 0.9632 - loss: 0.1103 - val_accuracy: 0.9659 - val_loss: 0.1025\n",
      "Epoch 5/10\n",
      "\u001b[1m2500/2500\u001b[0m \u001b[32m━━━━━━━━━━━━━━━━━━━━\u001b[0m\u001b[37m\u001b[0m \u001b[1m3s\u001b[0m 1ms/step - accuracy: 0.9665 - loss: 0.1027 - val_accuracy: 0.9669 - val_loss: 0.0986\n",
      "Epoch 6/10\n",
      "\u001b[1m2500/2500\u001b[0m \u001b[32m━━━━━━━━━━━━━━━━━━━━\u001b[0m\u001b[37m\u001b[0m \u001b[1m3s\u001b[0m 1ms/step - accuracy: 0.9674 - loss: 0.0997 - val_accuracy: 0.9699 - val_loss: 0.0931\n",
      "Epoch 7/10\n",
      "\u001b[1m2500/2500\u001b[0m \u001b[32m━━━━━━━━━━━━━━━━━━━━\u001b[0m\u001b[37m\u001b[0m \u001b[1m3s\u001b[0m 1ms/step - accuracy: 0.9695 - loss: 0.0930 - val_accuracy: 0.9696 - val_loss: 0.0910\n",
      "Epoch 8/10\n",
      "\u001b[1m2500/2500\u001b[0m \u001b[32m━━━━━━━━━━━━━━━━━━━━\u001b[0m\u001b[37m\u001b[0m \u001b[1m3s\u001b[0m 1ms/step - accuracy: 0.9696 - loss: 0.0927 - val_accuracy: 0.9708 - val_loss: 0.0873\n",
      "Epoch 9/10\n",
      "\u001b[1m2500/2500\u001b[0m \u001b[32m━━━━━━━━━━━━━━━━━━━━\u001b[0m\u001b[37m\u001b[0m \u001b[1m3s\u001b[0m 1ms/step - accuracy: 0.9693 - loss: 0.0902 - val_accuracy: 0.9703 - val_loss: 0.0872\n",
      "Epoch 10/10\n",
      "\u001b[1m2500/2500\u001b[0m \u001b[32m━━━━━━━━━━━━━━━━━━━━\u001b[0m\u001b[37m\u001b[0m \u001b[1m3s\u001b[0m 1ms/step - accuracy: 0.9703 - loss: 0.0886 - val_accuracy: 0.9711 - val_loss: 0.0851\n"
     ]
    }
   ],
   "source": [
    "from tensorflow.keras.models import Sequential\n",
    "from tensorflow.keras.layers import LSTM, Dense, Dropout, Input\n",
    "#Building LSTM Model\n",
    "lstm_model = Sequential([\n",
    "    Input(shape=(X_train_lstm.shape[1], 1)),\n",
    "    LSTM(50, activation='relu'),\n",
    "    Dropout(0.2),\n",
    "    Dense(1, activation='sigmoid')  # Sigmoid is for binary classification\n",
    "])\n",
    "#compiling the model\n",
    "lstm_model.compile(optimizer='adam', loss='binary_crossentropy', metrics=['accuracy'])\n",
    "#training the model\n",
    "history = lstm_model.fit(X_train_lstm, y_train, epochs=10, batch_size=32, validation_data=(X_test_lstm, y_test))"
   ]
  },
  {
   "cell_type": "code",
   "execution_count": 9,
   "id": "c7cf84aa-df53-43d9-9be8-663fd3819bc9",
   "metadata": {},
   "outputs": [
    {
     "name": "stdout",
     "output_type": "stream",
     "text": [
      "\u001b[1m625/625\u001b[0m \u001b[32m━━━━━━━━━━━━━━━━━━━━\u001b[0m\u001b[37m\u001b[0m \u001b[1m0s\u001b[0m 453us/step\n",
      "\n",
      "LSTM Classification Report:\n",
      "              precision    recall  f1-score   support\n",
      "\n",
      "           0       0.97      1.00      0.98     18292\n",
      "           1       1.00      0.66      0.80      1708\n",
      "\n",
      "    accuracy                           0.97     20000\n",
      "   macro avg       0.98      0.83      0.89     20000\n",
      "weighted avg       0.97      0.97      0.97     20000\n",
      "\n",
      "\n",
      "Confusion Matrix for LSTM:\n",
      "[[18291     1]\n",
      " [  576  1132]]\n"
     ]
    }
   ],
   "source": [
    "#Predicting test Data\n",
    "y_pred_lstm = (lstm_model.predict(X_test_lstm) > 0.5).astype(\"int32\")\n",
    "#developing LSTM\n",
    "print(\"\\nLSTM Classification Report:\")\n",
    "print(classification_report(y_test, y_pred_lstm))\n",
    "print(\"\\nConfusion Matrix for LSTM:\")\n",
    "cm_lstm = confusion_matrix(y_test, y_pred_lstm)\n",
    "print(cm_lstm)"
   ]
  },
  {
   "cell_type": "code",
   "execution_count": 10,
   "id": "6163ad27-67ef-4900-bea3-25351e6918ce",
   "metadata": {},
   "outputs": [
    {
     "name": "stdout",
     "output_type": "stream",
     "text": [
      "\n",
      "SVM Classification Report:\n",
      "              precision    recall  f1-score   support\n",
      "\n",
      "           0       0.96      1.00      0.98     18292\n",
      "           1       0.92      0.57      0.71      1708\n",
      "\n",
      "    accuracy                           0.96     20000\n",
      "   macro avg       0.94      0.78      0.84     20000\n",
      "weighted avg       0.96      0.96      0.96     20000\n",
      "\n",
      "\n",
      "Confusion Matrix for SVM:\n",
      "[[18211    81]\n",
      " [  729   979]]\n"
     ]
    }
   ],
   "source": [
    "#SVM Classification\n",
    "\n",
    "from sklearn.svm import SVC\n",
    "#Training SVM Model\n",
    "svm_model = SVC(kernel='linear', random_state=42)\n",
    "svm_model.fit(X_train_scaled, y_train)\n",
    "#predicting test data\n",
    "y_pred_svm = svm_model.predict(X_test_scaled)\n",
    "#developing SVM\n",
    "print(\"\\nSVM Classification Report:\")\n",
    "print(classification_report(y_test, y_pred_svm))\n",
    "print(\"\\nConfusion Matrix for SVM:\")\n",
    "cm_svm = confusion_matrix(y_test, y_pred_svm)\n",
    "print(cm_svm)"
   ]
  },
  {
   "cell_type": "markdown",
   "id": "60c97538-a66f-4f1e-a2df-bd711d27002a",
   "metadata": {},
   "source": [
    "4. Results\n",
    "\n",
    "Performance Metrics:\n",
    "\n",
    "The following metrics were used to evaluate the performance of the models:\n",
    "\n",
    "Accuracy: Overall correctness of the predictions.\n",
    "\n",
    "False Positive Rate (FPR): Proportion of negative cases incorrectly classified as positive.\n",
    "\n",
    "False Negative Rate (FNR): Proportion of positive cases incorrectly classified as negative.\n",
    "\n",
    "True Skill Statistic (TSS): Measures the skill of the classifier compared to random predictions.\n",
    "\n",
    "Heidke Skill Score (HSS): Measures performance considering all classes.\n",
    "\n"
   ]
  },
  {
   "cell_type": "code",
   "execution_count": 11,
   "id": "42351b58-f485-4e23-9f65-65e27fbf8f84",
   "metadata": {},
   "outputs": [
    {
     "name": "stdout",
     "output_type": "stream",
     "text": [
      "       Algorithm  Accuracy       FPR       FNR       TSS       HSS\n",
      "0  Random Forest   0.97035  0.003553  0.309133  0.687313  0.783605\n",
      "1           LSTM   0.97100  0.000765  0.331382  0.667853  0.782491\n",
      "2            SVM   0.95950  0.004428  0.426815  0.568757  0.686890\n"
     ]
    }
   ],
   "source": [
    "import numpy as np\n",
    "import pandas as pd\n",
    "#Confusion Matrices for the three models\n",
    "cm_rf = np.array([[18227, 65], [528, 1180]])  # Random Forest\n",
    "cm_lstm = np.array([[18278, 14], [566, 1142]])  # LSTM\n",
    "cm_svm = np.array([[18211, 81], [729, 979]])  # SVM\n",
    "#Function to calculate metrics from confusion matrix\n",
    "def calculate_metrics(cm):\n",
    "    tn, fp, fn, tp = cm.ravel()\n",
    "    accuracy = (tp + tn) / (tp + tn + fp + fn)\n",
    "    fpr = fp / (fp + tn) if (fp + tn) > 0 else 0\n",
    "    fnr = fn / (fn + tp) if (fn + tp) > 0 else 0\n",
    "    tss = (tp / (tp + fn)) - (fp / (fp + tn)) if (tp + fn) > 0 and (fp + tn) > 0 else 0\n",
    "    hss = (2 * ((tp * tn) - (fp * fn))) / (\n",
    "        ((tp + fn) * (fn + tn)) + ((tp + fp) * (fp + tn))\n",
    "    ) if ((tp + fn) * (fn + tn) + (tp + fp) * (fp + tn)) > 0 else 0\n",
    "    return accuracy, fpr, fnr, tss, hss\n",
    "#Calculating metrics for each algorithm\n",
    "metrics_rf = calculate_metrics(cm_rf)\n",
    "metrics_lstm = calculate_metrics(cm_lstm)\n",
    "metrics_svm = calculate_metrics(cm_svm)\n",
    "#results\n",
    "results = {\n",
    "    \"Algorithm\": [\"Random Forest\", \"LSTM\", \"SVM\"],\n",
    "    \"Accuracy\": [metrics_rf[0], metrics_lstm[0], metrics_svm[0]],\n",
    "    \"FPR\": [metrics_rf[1], metrics_lstm[1], metrics_svm[1]],\n",
    "    \"FNR\": [metrics_rf[2], metrics_lstm[2], metrics_svm[2]],\n",
    "    \"TSS\": [metrics_rf[3], metrics_lstm[3], metrics_svm[3]],\n",
    "    \"HSS\": [metrics_rf[4], metrics_lstm[4], metrics_svm[4]],\n",
    "}\n",
    "df_results = pd.DataFrame(results)\n",
    "#Printing results\n",
    "print(df_results)"
   ]
  },
  {
   "cell_type": "code",
   "execution_count": 12,
   "id": "6b43bbfe-0224-40bf-b253-fe99c75496e6",
   "metadata": {},
   "outputs": [
    {
     "data": {
      "image/png": "[encoded data removed]",
      "text/plain": [
       "<Figure size 640x480 with 1 Axes>"
      ]
     },
     "metadata": {},
     "output_type": "display_data"
    }
   ],
   "source": [
    "import matplotlib.pyplot as plt\n",
    "import numpy as np\n",
    "algorithms = df_results[\"Algorithm\"]  \n",
    "accuracy = df_results[\"Accuracy\"]\n",
    "fpr = df_results[\"FPR\"]\n",
    "fnr = df_results[\"FNR\"]\n",
    "tss = df_results[\"TSS\"]\n",
    "hss = df_results[\"HSS\"]\n",
    "bar_width = 0.15\n",
    "index = np.arange(len(algorithms))\n",
    "plt.bar(index, accuracy, bar_width, label=\"Accuracy\")\n",
    "plt.bar(index + bar_width, fpr, bar_width, label=\"FPR\")\n",
    "plt.bar(index + 2 * bar_width, fnr, bar_width, label=\"FNR\")\n",
    "plt.bar(index + 3 * bar_width, tss, bar_width, label=\"TSS\")\n",
    "plt.bar(index + 4 * bar_width, hss, bar_width, label=\"HSS\")\n",
    "plt.xlabel(\"Algorithms\")\n",
    "plt.ylabel(\"Metrics\")\n",
    "plt.title(\"Comparison of Metrics for Algorithms\")\n",
    "plt.xticks(index + 2 * bar_width, algorithms)\n",
    "plt.legend()\n",
    "plt.tight_layout()\n",
    "plt.show()"
   ]
  },
  {
   "cell_type": "markdown",
   "id": "3e2ffe90-660b-4f60-9e82-a68f84fbdd0d",
   "metadata": {},
   "source": [
    "The Random Forest model achieved the best performance with an accuracy of 97.1%, followed by LSTM (97.08%) and SVM (96.46%).\n",
    "\n",
    "Key observations:\n",
    "\n",
    "Random Forest: Low FPR and high accuracy, making it reliable for prediction.\n",
    "\n",
    "LSTM: Competitive performance but slightly higher FNR compared to Random Forest.\n",
    "\n",
    "SVM: Performed well but struggled with false negatives due to overlapping feature distributions.\n",
    "\n",
    "The results highlight Random Forest as the most effective model for this dataset.\n"
   ]
  },
  {
   "cell_type": "markdown",
   "id": "d1c8c6b7-0fc5-4f8a-bf2e-312298608ba4",
   "metadata": {},
   "source": [
    "5.Conclusion\n",
    "\n",
    "This study demonstrates the effectiveness of machine learning in predicting diabetes. Among the models tested, Random Forest achieved the highest accuracy and the best balance of error metrics.\n",
    "\n",
    "Limitations: The dataset size was relatively small, and certain features (e.g., diet or exercise habits) were missing.\n",
    "\n",
    "Future Work: Adding more features, using larger datasets, and exploring other algorithms (e.g., XGBoost) could further improve performance."
   ]
  },
  {
   "cell_type": "markdown",
   "id": "fee53392-3612-4c53-839e-2611ff05884f",
   "metadata": {},
   "source": [
    "6.References\n",
    "\n",
    "Kaggle Dataset:  https://www.kaggle.com/code/tumpanjawat/diabetes-eda-random-forest-hp/input\n",
    "\n",
    "Libraries Used: Scikit-learn, TensorFlow, Matplotlib, NumPy."
   ]
  }
 ],
 "metadata": {
  "kernelspec": {
   "display_name": "Python 3 (ipykernel)",
   "language": "python",
   "name": "python3"
  },
  "language_info": {
   "codemirror_mode": {
    "name": "ipython",
    "version": 3
   },
   "file_extension": ".py",
   "mimetype": "text/x-python",
   "name": "python",
   "nbconvert_exporter": "python",
   "pygments_lexer": "ipython3",
   "version": "3.12.7"
  }
 },
 "nbformat": 4,
 "nbformat_minor": 5
}
